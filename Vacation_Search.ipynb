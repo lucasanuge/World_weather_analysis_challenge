{
 "cells": [
  {
   "cell_type": "markdown",
   "metadata": {},
   "source": [
    "## Deliverable 2. Create a Customer Travel Destinations Map."
   ]
  },
  {
   "cell_type": "code",
   "execution_count": 1,
   "metadata": {},
   "outputs": [],
   "source": [
    "# Dependencies and Setup\n",
    "import pandas as pd\n",
    "import requests\n",
    "import gmaps\n",
    "\n",
    "# Import API key\n",
    "from config import g_key\n",
    "\n",
    "# Configure gmaps API key\n",
    "gmaps.configure(api_key=g_key)"
   ]
  },
  {
   "cell_type": "code",
   "execution_count": 14,
   "metadata": {},
   "outputs": [
    {
     "output_type": "execute_result",
     "data": {
      "text/plain": [
       "     City_ID       City Country      Lat       Lng  Max Temp  Humidity  \\\n",
       "0          0    Emerald      AU -23.5333  148.1667     69.35        30   \n",
       "1          1   Saldanha      ZA -33.0117   17.9442     65.75        34   \n",
       "2          2      Bluff      NZ -46.6000  168.3333     49.80        72   \n",
       "3          3  Kyshtovka      RU  56.5550   76.6271     66.16        62   \n",
       "4          4    Rikitea      PF -23.1203 -134.9692     76.17        82   \n",
       "..       ...        ...     ...      ...       ...       ...       ...   \n",
       "693      693  Xiongzhou      CN  25.1167  114.3000     85.75        51   \n",
       "694      694    Giresun      TR  40.5000   38.5000     33.12        95   \n",
       "695      695   Moussoro      TD  13.6408   16.4901     88.07        46   \n",
       "696      696   Mollendo      PE -17.0231  -72.0147     61.83        89   \n",
       "697      697      Praia      CV  14.9215  -23.5087     73.94        68   \n",
       "\n",
       "     Cloudiness  Wind Speed Weather Description  \n",
       "0             0        8.05           clear sky  \n",
       "1            29       20.78    scattered clouds  \n",
       "2            81        4.14       broken clouds  \n",
       "3            27       14.18    scattered clouds  \n",
       "4            77       14.14       broken clouds  \n",
       "..          ...         ...                 ...  \n",
       "693           1        2.71           clear sky  \n",
       "694         100        3.06          light snow  \n",
       "695          88        6.42     overcast clouds  \n",
       "696          93        6.78     overcast clouds  \n",
       "697           0       18.41           clear sky  \n",
       "\n",
       "[698 rows x 10 columns]"
      ],
      "text/html": "<div>\n<style scoped>\n    .dataframe tbody tr th:only-of-type {\n        vertical-align: middle;\n    }\n\n    .dataframe tbody tr th {\n        vertical-align: top;\n    }\n\n    .dataframe thead th {\n        text-align: right;\n    }\n</style>\n<table border=\"1\" class=\"dataframe\">\n  <thead>\n    <tr style=\"text-align: right;\">\n      <th></th>\n      <th>City_ID</th>\n      <th>City</th>\n      <th>Country</th>\n      <th>Lat</th>\n      <th>Lng</th>\n      <th>Max Temp</th>\n      <th>Humidity</th>\n      <th>Cloudiness</th>\n      <th>Wind Speed</th>\n      <th>Weather Description</th>\n    </tr>\n  </thead>\n  <tbody>\n    <tr>\n      <th>0</th>\n      <td>0</td>\n      <td>Emerald</td>\n      <td>AU</td>\n      <td>-23.5333</td>\n      <td>148.1667</td>\n      <td>69.35</td>\n      <td>30</td>\n      <td>0</td>\n      <td>8.05</td>\n      <td>clear sky</td>\n    </tr>\n    <tr>\n      <th>1</th>\n      <td>1</td>\n      <td>Saldanha</td>\n      <td>ZA</td>\n      <td>-33.0117</td>\n      <td>17.9442</td>\n      <td>65.75</td>\n      <td>34</td>\n      <td>29</td>\n      <td>20.78</td>\n      <td>scattered clouds</td>\n    </tr>\n    <tr>\n      <th>2</th>\n      <td>2</td>\n      <td>Bluff</td>\n      <td>NZ</td>\n      <td>-46.6000</td>\n      <td>168.3333</td>\n      <td>49.80</td>\n      <td>72</td>\n      <td>81</td>\n      <td>4.14</td>\n      <td>broken clouds</td>\n    </tr>\n    <tr>\n      <th>3</th>\n      <td>3</td>\n      <td>Kyshtovka</td>\n      <td>RU</td>\n      <td>56.5550</td>\n      <td>76.6271</td>\n      <td>66.16</td>\n      <td>62</td>\n      <td>27</td>\n      <td>14.18</td>\n      <td>scattered clouds</td>\n    </tr>\n    <tr>\n      <th>4</th>\n      <td>4</td>\n      <td>Rikitea</td>\n      <td>PF</td>\n      <td>-23.1203</td>\n      <td>-134.9692</td>\n      <td>76.17</td>\n      <td>82</td>\n      <td>77</td>\n      <td>14.14</td>\n      <td>broken clouds</td>\n    </tr>\n    <tr>\n      <th>...</th>\n      <td>...</td>\n      <td>...</td>\n      <td>...</td>\n      <td>...</td>\n      <td>...</td>\n      <td>...</td>\n      <td>...</td>\n      <td>...</td>\n      <td>...</td>\n      <td>...</td>\n    </tr>\n    <tr>\n      <th>693</th>\n      <td>693</td>\n      <td>Xiongzhou</td>\n      <td>CN</td>\n      <td>25.1167</td>\n      <td>114.3000</td>\n      <td>85.75</td>\n      <td>51</td>\n      <td>1</td>\n      <td>2.71</td>\n      <td>clear sky</td>\n    </tr>\n    <tr>\n      <th>694</th>\n      <td>694</td>\n      <td>Giresun</td>\n      <td>TR</td>\n      <td>40.5000</td>\n      <td>38.5000</td>\n      <td>33.12</td>\n      <td>95</td>\n      <td>100</td>\n      <td>3.06</td>\n      <td>light snow</td>\n    </tr>\n    <tr>\n      <th>695</th>\n      <td>695</td>\n      <td>Moussoro</td>\n      <td>TD</td>\n      <td>13.6408</td>\n      <td>16.4901</td>\n      <td>88.07</td>\n      <td>46</td>\n      <td>88</td>\n      <td>6.42</td>\n      <td>overcast clouds</td>\n    </tr>\n    <tr>\n      <th>696</th>\n      <td>696</td>\n      <td>Mollendo</td>\n      <td>PE</td>\n      <td>-17.0231</td>\n      <td>-72.0147</td>\n      <td>61.83</td>\n      <td>89</td>\n      <td>93</td>\n      <td>6.78</td>\n      <td>overcast clouds</td>\n    </tr>\n    <tr>\n      <th>697</th>\n      <td>697</td>\n      <td>Praia</td>\n      <td>CV</td>\n      <td>14.9215</td>\n      <td>-23.5087</td>\n      <td>73.94</td>\n      <td>68</td>\n      <td>0</td>\n      <td>18.41</td>\n      <td>clear sky</td>\n    </tr>\n  </tbody>\n</table>\n<p>698 rows × 10 columns</p>\n</div>"
     },
     "metadata": {},
     "execution_count": 14
    }
   ],
   "source": [
    "# 1. Import the WeatherPy_database.csv file. \n",
    "city_data_df = pd.read_csv(\"Weather_Database/WeatherPy_database.csv\")\n",
    "city_data_df.reset_index()\n",
    "city_data_df"
   ]
  },
  {
   "cell_type": "code",
   "execution_count": 15,
   "metadata": {},
   "outputs": [],
   "source": [
    "# 2. Prompt the user to enter minimum and maximum temperature criteria \n",
    "# Ask the customer to add a minimum and maximum temperature value.\n",
    "min_temp = float(input(\"What is the minimum temperature you would like for your trip? \"))\n",
    "max_temp = float(input(\"What is the maximum temperature you would like for your trip? \"))"
   ]
  },
  {
   "cell_type": "code",
   "execution_count": 16,
   "metadata": {},
   "outputs": [
    {
     "output_type": "execute_result",
     "data": {
      "text/plain": [
       "    City_ID            City Country      Lat       Lng  Max Temp  Humidity  \\\n",
       "4         4         Rikitea      PF -23.1203 -134.9692     76.17        82   \n",
       "9         9     Santo Tomas      PH  14.1079  121.1414     89.58        51   \n",
       "10       10  Saint-Philippe      RE -21.3585   55.7679     75.47        81   \n",
       "15       15          Padang      ID  -0.9492  100.3543     84.85        61   \n",
       "26       26           Vaini      TO -21.2000 -175.2000     77.16        73   \n",
       "27       27         Kavieng      PG  -2.5744  150.7967     82.29        75   \n",
       "28       28      Butaritari      KI   3.0707  172.7902     82.67        74   \n",
       "34       34         Sturgis      US  41.7992  -85.4192     76.80        34   \n",
       "40       40            Kelo      TD   9.3086   15.8066     78.19        64   \n",
       "42       42            Soyo      AO  -6.1349   12.3689     75.97        90   \n",
       "\n",
       "    Cloudiness  Wind Speed Weather Description  \n",
       "4           77       14.14       broken clouds  \n",
       "9          100        6.38     overcast clouds  \n",
       "10          63        0.63          light rain  \n",
       "15          82        3.69       broken clouds  \n",
       "26          75        1.14       broken clouds  \n",
       "27         100        0.94       moderate rain  \n",
       "28          30        7.16          light rain  \n",
       "34           1        6.91           clear sky  \n",
       "40          99        3.44     overcast clouds  \n",
       "42          62        6.51       broken clouds  "
      ],
      "text/html": "<div>\n<style scoped>\n    .dataframe tbody tr th:only-of-type {\n        vertical-align: middle;\n    }\n\n    .dataframe tbody tr th {\n        vertical-align: top;\n    }\n\n    .dataframe thead th {\n        text-align: right;\n    }\n</style>\n<table border=\"1\" class=\"dataframe\">\n  <thead>\n    <tr style=\"text-align: right;\">\n      <th></th>\n      <th>City_ID</th>\n      <th>City</th>\n      <th>Country</th>\n      <th>Lat</th>\n      <th>Lng</th>\n      <th>Max Temp</th>\n      <th>Humidity</th>\n      <th>Cloudiness</th>\n      <th>Wind Speed</th>\n      <th>Weather Description</th>\n    </tr>\n  </thead>\n  <tbody>\n    <tr>\n      <th>4</th>\n      <td>4</td>\n      <td>Rikitea</td>\n      <td>PF</td>\n      <td>-23.1203</td>\n      <td>-134.9692</td>\n      <td>76.17</td>\n      <td>82</td>\n      <td>77</td>\n      <td>14.14</td>\n      <td>broken clouds</td>\n    </tr>\n    <tr>\n      <th>9</th>\n      <td>9</td>\n      <td>Santo Tomas</td>\n      <td>PH</td>\n      <td>14.1079</td>\n      <td>121.1414</td>\n      <td>89.58</td>\n      <td>51</td>\n      <td>100</td>\n      <td>6.38</td>\n      <td>overcast clouds</td>\n    </tr>\n    <tr>\n      <th>10</th>\n      <td>10</td>\n      <td>Saint-Philippe</td>\n      <td>RE</td>\n      <td>-21.3585</td>\n      <td>55.7679</td>\n      <td>75.47</td>\n      <td>81</td>\n      <td>63</td>\n      <td>0.63</td>\n      <td>light rain</td>\n    </tr>\n    <tr>\n      <th>15</th>\n      <td>15</td>\n      <td>Padang</td>\n      <td>ID</td>\n      <td>-0.9492</td>\n      <td>100.3543</td>\n      <td>84.85</td>\n      <td>61</td>\n      <td>82</td>\n      <td>3.69</td>\n      <td>broken clouds</td>\n    </tr>\n    <tr>\n      <th>26</th>\n      <td>26</td>\n      <td>Vaini</td>\n      <td>TO</td>\n      <td>-21.2000</td>\n      <td>-175.2000</td>\n      <td>77.16</td>\n      <td>73</td>\n      <td>75</td>\n      <td>1.14</td>\n      <td>broken clouds</td>\n    </tr>\n    <tr>\n      <th>27</th>\n      <td>27</td>\n      <td>Kavieng</td>\n      <td>PG</td>\n      <td>-2.5744</td>\n      <td>150.7967</td>\n      <td>82.29</td>\n      <td>75</td>\n      <td>100</td>\n      <td>0.94</td>\n      <td>moderate rain</td>\n    </tr>\n    <tr>\n      <th>28</th>\n      <td>28</td>\n      <td>Butaritari</td>\n      <td>KI</td>\n      <td>3.0707</td>\n      <td>172.7902</td>\n      <td>82.67</td>\n      <td>74</td>\n      <td>30</td>\n      <td>7.16</td>\n      <td>light rain</td>\n    </tr>\n    <tr>\n      <th>34</th>\n      <td>34</td>\n      <td>Sturgis</td>\n      <td>US</td>\n      <td>41.7992</td>\n      <td>-85.4192</td>\n      <td>76.80</td>\n      <td>34</td>\n      <td>1</td>\n      <td>6.91</td>\n      <td>clear sky</td>\n    </tr>\n    <tr>\n      <th>40</th>\n      <td>40</td>\n      <td>Kelo</td>\n      <td>TD</td>\n      <td>9.3086</td>\n      <td>15.8066</td>\n      <td>78.19</td>\n      <td>64</td>\n      <td>99</td>\n      <td>3.44</td>\n      <td>overcast clouds</td>\n    </tr>\n    <tr>\n      <th>42</th>\n      <td>42</td>\n      <td>Soyo</td>\n      <td>AO</td>\n      <td>-6.1349</td>\n      <td>12.3689</td>\n      <td>75.97</td>\n      <td>90</td>\n      <td>62</td>\n      <td>6.51</td>\n      <td>broken clouds</td>\n    </tr>\n  </tbody>\n</table>\n</div>"
     },
     "metadata": {},
     "execution_count": 16
    }
   ],
   "source": [
    "# 3. Filter the city_data_df DataFrame using the input statements to create a new DataFrame using the loc method.\n",
    "# Filter the dataset to find the cities that fit the criteria.\n",
    "preferred_cities_df = city_data_df.loc[(city_data_df[\"Max Temp\"] <= max_temp) & (city_data_df[\"Max Temp\"] >= min_temp)]\n",
    "preferred_cities_df.head(10)"
   ]
  },
  {
   "cell_type": "code",
   "execution_count": 5,
   "metadata": {},
   "outputs": [
    {
     "output_type": "execute_result",
     "data": {
      "text/plain": [
       "City_ID                222\n",
       "City                   222\n",
       "Country                221\n",
       "Lat                    222\n",
       "Lng                    222\n",
       "Max Temp               222\n",
       "Humidity               222\n",
       "Cloudiness             222\n",
       "Wind Speed             222\n",
       "Weather Description    222\n",
       "dtype: int64"
      ]
     },
     "metadata": {},
     "execution_count": 5
    }
   ],
   "source": [
    "# 4a. Determine if there are any empty rows.\n",
    "preferred_cities_df.count()"
   ]
  },
  {
   "cell_type": "code",
   "execution_count": 17,
   "metadata": {},
   "outputs": [
    {
     "output_type": "execute_result",
     "data": {
      "text/plain": [
       "    City_ID            City Country      Lat       Lng  Max Temp  Humidity  \\\n",
       "4         4         Rikitea      PF -23.1203 -134.9692     76.17        82   \n",
       "9         9     Santo Tomas      PH  14.1079  121.1414     89.58        51   \n",
       "10       10  Saint-Philippe      RE -21.3585   55.7679     75.47        81   \n",
       "15       15          Padang      ID  -0.9492  100.3543     84.85        61   \n",
       "26       26           Vaini      TO -21.2000 -175.2000     77.16        73   \n",
       "\n",
       "    Cloudiness  Wind Speed Weather Description  \n",
       "4           77       14.14       broken clouds  \n",
       "9          100        6.38     overcast clouds  \n",
       "10          63        0.63          light rain  \n",
       "15          82        3.69       broken clouds  \n",
       "26          75        1.14       broken clouds  "
      ],
      "text/html": "<div>\n<style scoped>\n    .dataframe tbody tr th:only-of-type {\n        vertical-align: middle;\n    }\n\n    .dataframe tbody tr th {\n        vertical-align: top;\n    }\n\n    .dataframe thead th {\n        text-align: right;\n    }\n</style>\n<table border=\"1\" class=\"dataframe\">\n  <thead>\n    <tr style=\"text-align: right;\">\n      <th></th>\n      <th>City_ID</th>\n      <th>City</th>\n      <th>Country</th>\n      <th>Lat</th>\n      <th>Lng</th>\n      <th>Max Temp</th>\n      <th>Humidity</th>\n      <th>Cloudiness</th>\n      <th>Wind Speed</th>\n      <th>Weather Description</th>\n    </tr>\n  </thead>\n  <tbody>\n    <tr>\n      <th>4</th>\n      <td>4</td>\n      <td>Rikitea</td>\n      <td>PF</td>\n      <td>-23.1203</td>\n      <td>-134.9692</td>\n      <td>76.17</td>\n      <td>82</td>\n      <td>77</td>\n      <td>14.14</td>\n      <td>broken clouds</td>\n    </tr>\n    <tr>\n      <th>9</th>\n      <td>9</td>\n      <td>Santo Tomas</td>\n      <td>PH</td>\n      <td>14.1079</td>\n      <td>121.1414</td>\n      <td>89.58</td>\n      <td>51</td>\n      <td>100</td>\n      <td>6.38</td>\n      <td>overcast clouds</td>\n    </tr>\n    <tr>\n      <th>10</th>\n      <td>10</td>\n      <td>Saint-Philippe</td>\n      <td>RE</td>\n      <td>-21.3585</td>\n      <td>55.7679</td>\n      <td>75.47</td>\n      <td>81</td>\n      <td>63</td>\n      <td>0.63</td>\n      <td>light rain</td>\n    </tr>\n    <tr>\n      <th>15</th>\n      <td>15</td>\n      <td>Padang</td>\n      <td>ID</td>\n      <td>-0.9492</td>\n      <td>100.3543</td>\n      <td>84.85</td>\n      <td>61</td>\n      <td>82</td>\n      <td>3.69</td>\n      <td>broken clouds</td>\n    </tr>\n    <tr>\n      <th>26</th>\n      <td>26</td>\n      <td>Vaini</td>\n      <td>TO</td>\n      <td>-21.2000</td>\n      <td>-175.2000</td>\n      <td>77.16</td>\n      <td>73</td>\n      <td>75</td>\n      <td>1.14</td>\n      <td>broken clouds</td>\n    </tr>\n  </tbody>\n</table>\n</div>"
     },
     "metadata": {},
     "execution_count": 17
    }
   ],
   "source": [
    "# 4b. Drop any empty rows and create a new DataFrame that doesn’t have empty rows.\n",
    "clean_df = preferred_cities_df.dropna()\n",
    "clean_df.head()"
   ]
  },
  {
   "cell_type": "code",
   "execution_count": 18,
   "metadata": {},
   "outputs": [
    {
     "output_type": "execute_result",
     "data": {
      "text/plain": [
       "              City Country  Max Temp Weather Description      Lat       Lng  \\\n",
       "4          Rikitea      PF     76.17       broken clouds -23.1203 -134.9692   \n",
       "9      Santo Tomas      PH     89.58     overcast clouds  14.1079  121.1414   \n",
       "10  Saint-Philippe      RE     75.47          light rain -21.3585   55.7679   \n",
       "15          Padang      ID     84.85       broken clouds  -0.9492  100.3543   \n",
       "26           Vaini      TO     77.16       broken clouds -21.2000 -175.2000   \n",
       "27         Kavieng      PG     82.29       moderate rain  -2.5744  150.7967   \n",
       "28      Butaritari      KI     82.67          light rain   3.0707  172.7902   \n",
       "34         Sturgis      US     76.80           clear sky  41.7992  -85.4192   \n",
       "40            Kelo      TD     78.19     overcast clouds   9.3086   15.8066   \n",
       "42            Soyo      AO     75.97       broken clouds  -6.1349   12.3689   \n",
       "\n",
       "   Hotel Name  \n",
       "4              \n",
       "9              \n",
       "10             \n",
       "15             \n",
       "26             \n",
       "27             \n",
       "28             \n",
       "34             \n",
       "40             \n",
       "42             "
      ],
      "text/html": "<div>\n<style scoped>\n    .dataframe tbody tr th:only-of-type {\n        vertical-align: middle;\n    }\n\n    .dataframe tbody tr th {\n        vertical-align: top;\n    }\n\n    .dataframe thead th {\n        text-align: right;\n    }\n</style>\n<table border=\"1\" class=\"dataframe\">\n  <thead>\n    <tr style=\"text-align: right;\">\n      <th></th>\n      <th>City</th>\n      <th>Country</th>\n      <th>Max Temp</th>\n      <th>Weather Description</th>\n      <th>Lat</th>\n      <th>Lng</th>\n      <th>Hotel Name</th>\n    </tr>\n  </thead>\n  <tbody>\n    <tr>\n      <th>4</th>\n      <td>Rikitea</td>\n      <td>PF</td>\n      <td>76.17</td>\n      <td>broken clouds</td>\n      <td>-23.1203</td>\n      <td>-134.9692</td>\n      <td></td>\n    </tr>\n    <tr>\n      <th>9</th>\n      <td>Santo Tomas</td>\n      <td>PH</td>\n      <td>89.58</td>\n      <td>overcast clouds</td>\n      <td>14.1079</td>\n      <td>121.1414</td>\n      <td></td>\n    </tr>\n    <tr>\n      <th>10</th>\n      <td>Saint-Philippe</td>\n      <td>RE</td>\n      <td>75.47</td>\n      <td>light rain</td>\n      <td>-21.3585</td>\n      <td>55.7679</td>\n      <td></td>\n    </tr>\n    <tr>\n      <th>15</th>\n      <td>Padang</td>\n      <td>ID</td>\n      <td>84.85</td>\n      <td>broken clouds</td>\n      <td>-0.9492</td>\n      <td>100.3543</td>\n      <td></td>\n    </tr>\n    <tr>\n      <th>26</th>\n      <td>Vaini</td>\n      <td>TO</td>\n      <td>77.16</td>\n      <td>broken clouds</td>\n      <td>-21.2000</td>\n      <td>-175.2000</td>\n      <td></td>\n    </tr>\n    <tr>\n      <th>27</th>\n      <td>Kavieng</td>\n      <td>PG</td>\n      <td>82.29</td>\n      <td>moderate rain</td>\n      <td>-2.5744</td>\n      <td>150.7967</td>\n      <td></td>\n    </tr>\n    <tr>\n      <th>28</th>\n      <td>Butaritari</td>\n      <td>KI</td>\n      <td>82.67</td>\n      <td>light rain</td>\n      <td>3.0707</td>\n      <td>172.7902</td>\n      <td></td>\n    </tr>\n    <tr>\n      <th>34</th>\n      <td>Sturgis</td>\n      <td>US</td>\n      <td>76.80</td>\n      <td>clear sky</td>\n      <td>41.7992</td>\n      <td>-85.4192</td>\n      <td></td>\n    </tr>\n    <tr>\n      <th>40</th>\n      <td>Kelo</td>\n      <td>TD</td>\n      <td>78.19</td>\n      <td>overcast clouds</td>\n      <td>9.3086</td>\n      <td>15.8066</td>\n      <td></td>\n    </tr>\n    <tr>\n      <th>42</th>\n      <td>Soyo</td>\n      <td>AO</td>\n      <td>75.97</td>\n      <td>broken clouds</td>\n      <td>-6.1349</td>\n      <td>12.3689</td>\n      <td></td>\n    </tr>\n  </tbody>\n</table>\n</div>"
     },
     "metadata": {},
     "execution_count": 18
    }
   ],
   "source": [
    "# 5a. Create DataFrame called hotel_df to store hotel names along with city, country, max temp, and coordinates.\n",
    "hotel_df = clean_df[[\"City\", \"Country\", \"Max Temp\", \"Weather Description\", \"Lat\", \"Lng\"]].copy()\n",
    "\n",
    "# 5b. Create a new column \"Hotel Name\"\n",
    "hotel_df[\"Hotel Name\"] = \"\"\n",
    "hotel_df.head(10)"
   ]
  },
  {
   "cell_type": "code",
   "execution_count": 25,
   "metadata": {},
   "outputs": [
    {
     "output_type": "stream",
     "name": "stdout",
     "text": [
      "Hotel not found... skipping.\n",
      "Hotel not found... skipping.\n",
      "Hotel not found... skipping.\n",
      "Hotel not found... skipping.\n",
      "Hotel not found... skipping.\n",
      "Hotel not found... skipping.\n",
      "Hotel not found... skipping.\n",
      "Hotel not found... skipping.\n",
      "Hotel not found... skipping.\n",
      "Hotel not found... skipping.\n",
      "Hotel not found... skipping.\n",
      "Hotel not found... skipping.\n",
      "Hotel not found... skipping.\n",
      "Hotel not found... skipping.\n",
      "Hotel not found... skipping.\n",
      "Hotel not found... skipping.\n",
      "Hotel not found... skipping.\n",
      "Hotel not found... skipping.\n",
      "Hotel not found... skipping.\n"
     ]
    }
   ],
   "source": [
    "# 6a. Set parameters to search for hotels with 5000 meters.\n",
    "params = {\n",
    "    \"radius\": 5000,\n",
    "    \"type\": \"lodging\",\n",
    "    \"key\": g_key\n",
    "}\n",
    "\n",
    "# 6b. Iterate through the hotel DataFrame.\n",
    "for index, row in hotel_df.iterrows():\n",
    "    # 6c. Get latitude and longitude from DataFrame\n",
    "    lat = row[\"Lat\"]\n",
    "    lng = row[\"Lng\"]\n",
    "    params[\"location\"] = f\"{lat},{lng}\"\n",
    "    \n",
    "    # 6d. Set up the base URL for the Google Directions API to get JSON data.\n",
    "    base_url = \"https://maps.googleapis.com/maps/api/place/nearbysearch/json\"\n",
    "\n",
    "    # 6e. Make request and retrieve the JSON data from the search. \n",
    "    hotels = requests.get(base_url, params=params).json()\n",
    "    \n",
    "    # 6f. Get the first hotel from the results and store the name, if a hotel isn't found skip the city.\n",
    "    try:\n",
    "        hotel_df.loc[index, \"Hotel Name\"] = hotels[\"results\"][0][\"name\"]\n",
    "    except (IndexError):\n",
    "        print(\"Hotel not found... skipping.\")\n",
    "        "
   ]
  },
  {
   "cell_type": "code",
   "execution_count": 37,
   "metadata": {},
   "outputs": [
    {
     "output_type": "execute_result",
     "data": {
      "text/plain": [
       "               City Country  Max Temp Weather Description      Lat       Lng  \\\n",
       "4           Rikitea      PF     76.17       broken clouds -23.1203 -134.9692   \n",
       "9       Santo Tomas      PH     89.58     overcast clouds  14.1079  121.1414   \n",
       "10   Saint-Philippe      RE     75.47          light rain -21.3585   55.7679   \n",
       "15           Padang      ID     84.85       broken clouds  -0.9492  100.3543   \n",
       "26            Vaini      TO     77.16       broken clouds -21.2000 -175.2000   \n",
       "..              ...     ...       ...                 ...      ...       ...   \n",
       "673        Bengkulu      ID     83.44          few clouds  -3.8004  102.2655   \n",
       "677            Tema      GH     79.21           clear sky   5.6670   -0.0166   \n",
       "681        Weligama      LK     83.91       broken clouds   5.9667   80.4167   \n",
       "693       Xiongzhou      CN     85.75           clear sky  25.1167  114.3000   \n",
       "695        Moussoro      TD     88.07     overcast clouds  13.6408   16.4901   \n",
       "\n",
       "                       Hotel Name  \n",
       "4                  Pension Maro'i  \n",
       "9    Microtel by Wyndham Batangas  \n",
       "10   Chambres d'hôte \"La Trinité\"  \n",
       "15                 Mercure Padang  \n",
       "26            Keleti Beach Resort  \n",
       "..                            ...  \n",
       "673          Grage Hotel Bengkulu  \n",
       "677                 Beulah Royale  \n",
       "681           Weligama Bay Resort  \n",
       "693       Xinhewan Business Hotel  \n",
       "695    Pharmacie alnadja Moussoro  \n",
       "\n",
       "[202 rows x 7 columns]"
      ],
      "text/html": "<div>\n<style scoped>\n    .dataframe tbody tr th:only-of-type {\n        vertical-align: middle;\n    }\n\n    .dataframe tbody tr th {\n        vertical-align: top;\n    }\n\n    .dataframe thead th {\n        text-align: right;\n    }\n</style>\n<table border=\"1\" class=\"dataframe\">\n  <thead>\n    <tr style=\"text-align: right;\">\n      <th></th>\n      <th>City</th>\n      <th>Country</th>\n      <th>Max Temp</th>\n      <th>Weather Description</th>\n      <th>Lat</th>\n      <th>Lng</th>\n      <th>Hotel Name</th>\n    </tr>\n  </thead>\n  <tbody>\n    <tr>\n      <th>4</th>\n      <td>Rikitea</td>\n      <td>PF</td>\n      <td>76.17</td>\n      <td>broken clouds</td>\n      <td>-23.1203</td>\n      <td>-134.9692</td>\n      <td>Pension Maro'i</td>\n    </tr>\n    <tr>\n      <th>9</th>\n      <td>Santo Tomas</td>\n      <td>PH</td>\n      <td>89.58</td>\n      <td>overcast clouds</td>\n      <td>14.1079</td>\n      <td>121.1414</td>\n      <td>Microtel by Wyndham Batangas</td>\n    </tr>\n    <tr>\n      <th>10</th>\n      <td>Saint-Philippe</td>\n      <td>RE</td>\n      <td>75.47</td>\n      <td>light rain</td>\n      <td>-21.3585</td>\n      <td>55.7679</td>\n      <td>Chambres d'hôte \"La Trinité\"</td>\n    </tr>\n    <tr>\n      <th>15</th>\n      <td>Padang</td>\n      <td>ID</td>\n      <td>84.85</td>\n      <td>broken clouds</td>\n      <td>-0.9492</td>\n      <td>100.3543</td>\n      <td>Mercure Padang</td>\n    </tr>\n    <tr>\n      <th>26</th>\n      <td>Vaini</td>\n      <td>TO</td>\n      <td>77.16</td>\n      <td>broken clouds</td>\n      <td>-21.2000</td>\n      <td>-175.2000</td>\n      <td>Keleti Beach Resort</td>\n    </tr>\n    <tr>\n      <th>...</th>\n      <td>...</td>\n      <td>...</td>\n      <td>...</td>\n      <td>...</td>\n      <td>...</td>\n      <td>...</td>\n      <td>...</td>\n    </tr>\n    <tr>\n      <th>673</th>\n      <td>Bengkulu</td>\n      <td>ID</td>\n      <td>83.44</td>\n      <td>few clouds</td>\n      <td>-3.8004</td>\n      <td>102.2655</td>\n      <td>Grage Hotel Bengkulu</td>\n    </tr>\n    <tr>\n      <th>677</th>\n      <td>Tema</td>\n      <td>GH</td>\n      <td>79.21</td>\n      <td>clear sky</td>\n      <td>5.6670</td>\n      <td>-0.0166</td>\n      <td>Beulah Royale</td>\n    </tr>\n    <tr>\n      <th>681</th>\n      <td>Weligama</td>\n      <td>LK</td>\n      <td>83.91</td>\n      <td>broken clouds</td>\n      <td>5.9667</td>\n      <td>80.4167</td>\n      <td>Weligama Bay Resort</td>\n    </tr>\n    <tr>\n      <th>693</th>\n      <td>Xiongzhou</td>\n      <td>CN</td>\n      <td>85.75</td>\n      <td>clear sky</td>\n      <td>25.1167</td>\n      <td>114.3000</td>\n      <td>Xinhewan Business Hotel</td>\n    </tr>\n    <tr>\n      <th>695</th>\n      <td>Moussoro</td>\n      <td>TD</td>\n      <td>88.07</td>\n      <td>overcast clouds</td>\n      <td>13.6408</td>\n      <td>16.4901</td>\n      <td>Pharmacie alnadja Moussoro</td>\n    </tr>\n  </tbody>\n</table>\n<p>202 rows × 7 columns</p>\n</div>"
     },
     "metadata": {},
     "execution_count": 37
    }
   ],
   "source": [
    "# 7. Drop the rows where there is no Hotel Name.\n",
    "import numpy as np\n",
    "\n",
    "hotel_df['Hotel Name'].replace('', np.nan, inplace=True)\n",
    "hotel_df.dropna(subset=['Hotel Name'], inplace=True)\n",
    "clean_hotel_df = hotel_df\n",
    "clean_hotel_df"
   ]
  },
  {
   "cell_type": "code",
   "execution_count": 38,
   "metadata": {},
   "outputs": [],
   "source": [
    "# 8a. Create the output File (CSV)\n",
    "output_data_file = \"WeatherPy_vacation.csv\"\n",
    "# 8b. Export the City_Data into a csv\n",
    "clean_hotel_df.to_csv(output_data_file, index_label=\"City_ID\")"
   ]
  },
  {
   "cell_type": "code",
   "execution_count": 39,
   "metadata": {},
   "outputs": [],
   "source": [
    "# 9. Using the template add city name, the country code, the weather description and maximum temperature for the city.\n",
    "info_box_template = \"\"\"\n",
    "<dl>\n",
    "<dt>Hotel Name</dt><dd>{Hotel Name}</dd>\n",
    "<dt>City</dt><dd>{City}</dd>\n",
    "<dt>Country</dt><dd>{Country}</dd>\n",
    "<dt>Weather Description</dt><dd>{Weather Description}</dt>\n",
    "<dt>Max Temp</dt><dd>{Max Temp} °F</dd>\n",
    "</dl>\n",
    "\"\"\"\n",
    "\n",
    "# 10a. Get the data from each row and add it to the formatting template and store the data in a list.\n",
    "hotel_info = [info_box_template.format(**row) for index, row in clean_hotel_df.iterrows()]\n",
    "\n",
    "# 10b. Get the latitude and longitude from each row and store in a new DataFrame.\n",
    "locations = clean_hotel_df[[\"Lat\", \"Lng\"]]"
   ]
  },
  {
   "cell_type": "code",
   "execution_count": 43,
   "metadata": {},
   "outputs": [
    {
     "output_type": "display_data",
     "data": {
      "text/plain": "Figure(layout=FigureLayout(height='420px'))",
      "application/vnd.jupyter.widget-view+json": {
       "version_major": 2,
       "version_minor": 0,
       "model_id": "44fee1b8507241f196c8549635964ed4"
      }
     },
     "metadata": {}
    }
   ],
   "source": [
    "# 11a. Add a marker layer for each city to the map. \n",
    "fig = gmaps.figure(center=(35.0, 31.0), zoom_level=1.75)\n",
    "marker_layer = gmaps.marker_layer(locations, info_box_content=hotel_info)\n",
    "fig.add_layer(marker_layer)\n",
    "# 11b. Display the figure\n",
    "fig"
   ]
  },
  {
   "cell_type": "code",
   "execution_count": null,
   "metadata": {},
   "outputs": [],
   "source": []
  },
  {
   "cell_type": "code",
   "execution_count": null,
   "metadata": {},
   "outputs": [],
   "source": []
  }
 ],
 "metadata": {
  "kernelspec": {
   "name": "python394jvsc74a57bd0fb18a3ac57c62a52cd09fb7682caf9ddbe3f0f531ef1a5c14032381dbfb73f05",
   "display_name": "Python 3.9.4 64-bit ('PythonData': conda)"
  },
  "language_info": {
   "codemirror_mode": {
    "name": "ipython",
    "version": 3
   },
   "file_extension": ".py",
   "mimetype": "text/x-python",
   "name": "python",
   "nbconvert_exporter": "python",
   "pygments_lexer": "ipython3",
   "version": "3.9.4"
  },
  "latex_envs": {
   "LaTeX_envs_menu_present": true,
   "autoclose": false,
   "autocomplete": true,
   "bibliofile": "biblio.bib",
   "cite_by": "apalike",
   "current_citInitial": 1,
   "eqLabelWithNumbers": true,
   "eqNumInitial": 1,
   "hotkeys": {
    "equation": "Ctrl-E",
    "itemize": "Ctrl-I"
   },
   "labels_anchors": false,
   "latex_user_defs": false,
   "report_style_numbering": false,
   "user_envs_cfg": false
  }
 },
 "nbformat": 4,
 "nbformat_minor": 2
}