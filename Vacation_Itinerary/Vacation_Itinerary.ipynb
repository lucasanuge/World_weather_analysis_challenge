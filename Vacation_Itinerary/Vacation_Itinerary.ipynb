{
 "cells": [
  {
   "cell_type": "markdown",
   "metadata": {},
   "source": [
    "## Deliverable 3. Create a Travel Itinerary Map."
   ]
  },
  {
   "cell_type": "code",
   "execution_count": 1,
   "metadata": {},
   "outputs": [],
   "source": [
    "# Dependencies and Setup\n",
    "import pandas as pd\n",
    "import requests\n",
    "import gmaps\n",
    "import os \n",
    "\n",
    "# Import API key\n",
    "from config import g_key\n",
    "\n",
    "# Configure gmaps\n",
    "gmaps.configure(api_key=g_key)"
   ]
  },
  {
   "cell_type": "code",
   "execution_count": 2,
   "metadata": {},
   "outputs": [
    {
     "output_type": "execute_result",
     "data": {
      "text/plain": [
       "     City_ID            City Country  Max Temp Weather Description      Lat  \\\n",
       "0          4         Rikitea      PF     76.17       broken clouds -23.1203   \n",
       "1          9     Santo Tomas      PH     89.58     overcast clouds  14.1079   \n",
       "2         10  Saint-Philippe      RE     75.47          light rain -21.3585   \n",
       "3         15          Padang      ID     84.85       broken clouds  -0.9492   \n",
       "4         26           Vaini      TO     77.16       broken clouds -21.2000   \n",
       "..       ...             ...     ...       ...                 ...      ...   \n",
       "197      673        Bengkulu      ID     83.44          few clouds  -3.8004   \n",
       "198      677            Tema      GH     79.21           clear sky   5.6670   \n",
       "199      681        Weligama      LK     83.91       broken clouds   5.9667   \n",
       "200      693       Xiongzhou      CN     85.75           clear sky  25.1167   \n",
       "201      695        Moussoro      TD     88.07     overcast clouds  13.6408   \n",
       "\n",
       "          Lng                    Hotel Name  \n",
       "0   -134.9692                Pension Maro'i  \n",
       "1    121.1414  Microtel by Wyndham Batangas  \n",
       "2     55.7679  Chambres d'hôte \"La Trinité\"  \n",
       "3    100.3543                Mercure Padang  \n",
       "4   -175.2000           Keleti Beach Resort  \n",
       "..        ...                           ...  \n",
       "197  102.2655          Grage Hotel Bengkulu  \n",
       "198   -0.0166                 Beulah Royale  \n",
       "199   80.4167           Weligama Bay Resort  \n",
       "200  114.3000       Xinhewan Business Hotel  \n",
       "201   16.4901    Pharmacie alnadja Moussoro  \n",
       "\n",
       "[202 rows x 8 columns]"
      ],
      "text/html": "<div>\n<style scoped>\n    .dataframe tbody tr th:only-of-type {\n        vertical-align: middle;\n    }\n\n    .dataframe tbody tr th {\n        vertical-align: top;\n    }\n\n    .dataframe thead th {\n        text-align: right;\n    }\n</style>\n<table border=\"1\" class=\"dataframe\">\n  <thead>\n    <tr style=\"text-align: right;\">\n      <th></th>\n      <th>City_ID</th>\n      <th>City</th>\n      <th>Country</th>\n      <th>Max Temp</th>\n      <th>Weather Description</th>\n      <th>Lat</th>\n      <th>Lng</th>\n      <th>Hotel Name</th>\n    </tr>\n  </thead>\n  <tbody>\n    <tr>\n      <th>0</th>\n      <td>4</td>\n      <td>Rikitea</td>\n      <td>PF</td>\n      <td>76.17</td>\n      <td>broken clouds</td>\n      <td>-23.1203</td>\n      <td>-134.9692</td>\n      <td>Pension Maro'i</td>\n    </tr>\n    <tr>\n      <th>1</th>\n      <td>9</td>\n      <td>Santo Tomas</td>\n      <td>PH</td>\n      <td>89.58</td>\n      <td>overcast clouds</td>\n      <td>14.1079</td>\n      <td>121.1414</td>\n      <td>Microtel by Wyndham Batangas</td>\n    </tr>\n    <tr>\n      <th>2</th>\n      <td>10</td>\n      <td>Saint-Philippe</td>\n      <td>RE</td>\n      <td>75.47</td>\n      <td>light rain</td>\n      <td>-21.3585</td>\n      <td>55.7679</td>\n      <td>Chambres d'hôte \"La Trinité\"</td>\n    </tr>\n    <tr>\n      <th>3</th>\n      <td>15</td>\n      <td>Padang</td>\n      <td>ID</td>\n      <td>84.85</td>\n      <td>broken clouds</td>\n      <td>-0.9492</td>\n      <td>100.3543</td>\n      <td>Mercure Padang</td>\n    </tr>\n    <tr>\n      <th>4</th>\n      <td>26</td>\n      <td>Vaini</td>\n      <td>TO</td>\n      <td>77.16</td>\n      <td>broken clouds</td>\n      <td>-21.2000</td>\n      <td>-175.2000</td>\n      <td>Keleti Beach Resort</td>\n    </tr>\n    <tr>\n      <th>...</th>\n      <td>...</td>\n      <td>...</td>\n      <td>...</td>\n      <td>...</td>\n      <td>...</td>\n      <td>...</td>\n      <td>...</td>\n      <td>...</td>\n    </tr>\n    <tr>\n      <th>197</th>\n      <td>673</td>\n      <td>Bengkulu</td>\n      <td>ID</td>\n      <td>83.44</td>\n      <td>few clouds</td>\n      <td>-3.8004</td>\n      <td>102.2655</td>\n      <td>Grage Hotel Bengkulu</td>\n    </tr>\n    <tr>\n      <th>198</th>\n      <td>677</td>\n      <td>Tema</td>\n      <td>GH</td>\n      <td>79.21</td>\n      <td>clear sky</td>\n      <td>5.6670</td>\n      <td>-0.0166</td>\n      <td>Beulah Royale</td>\n    </tr>\n    <tr>\n      <th>199</th>\n      <td>681</td>\n      <td>Weligama</td>\n      <td>LK</td>\n      <td>83.91</td>\n      <td>broken clouds</td>\n      <td>5.9667</td>\n      <td>80.4167</td>\n      <td>Weligama Bay Resort</td>\n    </tr>\n    <tr>\n      <th>200</th>\n      <td>693</td>\n      <td>Xiongzhou</td>\n      <td>CN</td>\n      <td>85.75</td>\n      <td>clear sky</td>\n      <td>25.1167</td>\n      <td>114.3000</td>\n      <td>Xinhewan Business Hotel</td>\n    </tr>\n    <tr>\n      <th>201</th>\n      <td>695</td>\n      <td>Moussoro</td>\n      <td>TD</td>\n      <td>88.07</td>\n      <td>overcast clouds</td>\n      <td>13.6408</td>\n      <td>16.4901</td>\n      <td>Pharmacie alnadja Moussoro</td>\n    </tr>\n  </tbody>\n</table>\n<p>202 rows × 8 columns</p>\n</div>"
     },
     "metadata": {},
     "execution_count": 2
    }
   ],
   "source": [
    "# 1. Read the WeatherPy_vacation.csv into a DataFrame.\n",
    "vacation_df = pd.read_csv(\"Vacation_search/WeatherPy_vacation.csv\")\n",
    "vacation_df"
   ]
  },
  {
   "cell_type": "code",
   "execution_count": 3,
   "metadata": {},
   "outputs": [],
   "source": [
    "# 2. Using the template add the city name, the country code, the weather description and maximum temperature for the city.\n",
    "info_box_template = \"\"\"\n",
    "<dl>\n",
    "<dt>City</dt><dd>{City}</dd>\n",
    "<dt>Country</dt><dd>{Country}</dd>\n",
    "<dt>Weather Description</dt><dd>{Weather Description}</dt>\n",
    "<dt>Max Temp</dt><dd>{Max Temp} °F</dd>\n",
    "</dl>\n",
    "\"\"\"\n",
    "\n",
    "# 3a. Get the data from each row and add it to the formatting template and store the data in a list.\n",
    "city_info = [info_box_template.format(**row) for index, row in vacation_df.iterrows()]\n",
    "\n",
    "# 3b. Get the latitude and longitude from each row and store in a new DataFrame.\n",
    "locations = vacation_df[[\"Lat\", \"Lng\"]]"
   ]
  },
  {
   "cell_type": "code",
   "execution_count": 80,
   "metadata": {},
   "outputs": [
    {
     "output_type": "display_data",
     "data": {
      "text/plain": "Figure(layout=FigureLayout(height='420px'))",
      "application/vnd.jupyter.widget-view+json": {
       "version_major": 2,
       "version_minor": 0,
       "model_id": "fa28e7653b82436ba9a395d3963bc3d0"
      }
     },
     "metadata": {}
    }
   ],
   "source": [
    "# 4a. Add a marker layer for each city to the map.\n",
    "fig = gmaps.figure(center=(35.0, 31.0), zoom_level=1.75)\n",
    "marker_layer = gmaps.marker_layer(locations, info_box_content=city_info)\n",
    "fig.add_layer(marker_layer)\n",
    "# 4b. Display the figure\n",
    "fig\n"
   ]
  },
  {
   "cell_type": "code",
   "execution_count": 93,
   "metadata": {},
   "outputs": [],
   "source": [
    "# From the map above pick 4 cities and create a vacation itinerary route to travel between the four cities. \n",
    "# 5. Create DataFrames for each city by filtering the 'vacation_df' using the loc method. \n",
    "# Hint: The starting and ending city should be the same city.\n",
    "\n",
    "vacation_start = vacation_df.loc[vacation_df[\"City\"] == 'Roma']\n",
    "vacation_end = vacation_df.loc[vacation_df[\"City\"] == 'Roma']\n",
    "vacation_stop1 = vacation_df.loc[vacation_df[\"City\"] == 'Laguna']\n",
    "vacation_stop2 = vacation_df.loc[vacation_df[\"City\"] == 'Tomatlan'] \n",
    "vacation_stop3 = vacation_df.loc[vacation_df[\"City\"] == 'Mango'] \n",
    "\n",
    "\n",
    "\n"
   ]
  },
  {
   "cell_type": "code",
   "execution_count": 94,
   "metadata": {},
   "outputs": [
    {
     "output_type": "execute_result",
     "data": {
      "text/plain": [
       "((43.2128, -75.4557),\n",
       " (38.421, -121.4238),\n",
       " (19.9333, -105.25),\n",
       " (27.9797, -82.3065))"
      ]
     },
     "metadata": {},
     "execution_count": 94
    }
   ],
   "source": [
    "# 6. Get the latitude-longitude pairs as tuples from each city DataFrame using the to_numpy function and list indexing.\n",
    "#start = vacation_start[[\"Lat\", \"Lng\"]].to_numpy\n",
    "#end = vacation_end[[\"Lat\", \"Lng\"]].to_numpy\n",
    "#stop1 = vacation_stop1[[\"Lat\", \"Lng\"]].to_numpy\n",
    "#stop2 = vacation_stop2[[\"Lat\", \"Lng\"]].to_numpy\n",
    "#stop3 = vacation_stop3[[\"Lat\", \"Lng\"]].to_numpy\n",
    "\n",
    "start = vacation_start[\"Lat\"].to_numpy()[0], vacation_start[\"Lng\"].to_numpy()[0]\n",
    "end = vacation_start[\"Lat\"].to_numpy()[0], vacation_start[\"Lng\"].to_numpy()[0]\n",
    "stop_1 = vacation_stop1[\"Lat\"].to_numpy()[0], vacation_stop1[\"Lng\"].to_numpy()[0]\n",
    "stop_2 = vacation_stop2[\"Lat\"].to_numpy()[0], vacation_stop2[\"Lng\"].to_numpy()[0]\n",
    "stop_3 = vacation_stop3[\"Lat\"].to_numpy()[0], vacation_stop3[\"Lng\"].to_numpy()[0]\n",
    "\n",
    "start, stop_1, stop_2, stop_3\n"
   ]
  },
  {
   "cell_type": "code",
   "execution_count": 95,
   "metadata": {
    "scrolled": true
   },
   "outputs": [
    {
     "output_type": "display_data",
     "data": {
      "text/plain": "Figure(layout=FigureLayout(height='420px'))",
      "application/vnd.jupyter.widget-view+json": {
       "version_major": 2,
       "version_minor": 0,
       "model_id": "06d147ccfd354b37b5e7d13829de0091"
      }
     },
     "metadata": {}
    }
   ],
   "source": [
    "# 7. Create a direction layer map using the start and end latitude-longitude pairs,\n",
    "# and stop1, stop2, and stop3 as the waypoints. The travel_mode should be \"DRIVING\", \"BICYCLING\", or \"WALKING\".\n",
    "\n",
    "fig = gmaps.figure()\n",
    "way = gmaps.directions_layer(start,start, waypoints= [stop_1, stop_2, stop_3] , travel_mode=\"DRIVING\")\n",
    "fig.add_layer(way)\n",
    "fig"
   ]
  },
  {
   "cell_type": "code",
   "execution_count": 96,
   "metadata": {},
   "outputs": [
    {
     "output_type": "execute_result",
     "data": {
      "text/plain": [
       "   City_ID      City Country  Max Temp Weather Description      Lat       Lng  \\\n",
       "0      344      Roma      US     75.06           clear sky  43.2128  -75.4557   \n",
       "1      159    Laguna      US     84.70           clear sky  38.4210 -121.4238   \n",
       "2      515  Tomatlan      MX     78.85     overcast clouds  19.9333 -105.2500   \n",
       "3       47     Mango      US     81.01           clear sky  27.9797  -82.3065   \n",
       "\n",
       "                                          Hotel Name  \n",
       "0                            Wingate By Wyndham Rome  \n",
       "1  Holiday Inn Express & Suites Elk Grove Central...  \n",
       "2                                       Norma franco  \n",
       "3               Hilton Garden Inn Tampa East/Brandon  "
      ],
      "text/html": "<div>\n<style scoped>\n    .dataframe tbody tr th:only-of-type {\n        vertical-align: middle;\n    }\n\n    .dataframe tbody tr th {\n        vertical-align: top;\n    }\n\n    .dataframe thead th {\n        text-align: right;\n    }\n</style>\n<table border=\"1\" class=\"dataframe\">\n  <thead>\n    <tr style=\"text-align: right;\">\n      <th></th>\n      <th>City_ID</th>\n      <th>City</th>\n      <th>Country</th>\n      <th>Max Temp</th>\n      <th>Weather Description</th>\n      <th>Lat</th>\n      <th>Lng</th>\n      <th>Hotel Name</th>\n    </tr>\n  </thead>\n  <tbody>\n    <tr>\n      <th>0</th>\n      <td>344</td>\n      <td>Roma</td>\n      <td>US</td>\n      <td>75.06</td>\n      <td>clear sky</td>\n      <td>43.2128</td>\n      <td>-75.4557</td>\n      <td>Wingate By Wyndham Rome</td>\n    </tr>\n    <tr>\n      <th>1</th>\n      <td>159</td>\n      <td>Laguna</td>\n      <td>US</td>\n      <td>84.70</td>\n      <td>clear sky</td>\n      <td>38.4210</td>\n      <td>-121.4238</td>\n      <td>Holiday Inn Express &amp; Suites Elk Grove Central...</td>\n    </tr>\n    <tr>\n      <th>2</th>\n      <td>515</td>\n      <td>Tomatlan</td>\n      <td>MX</td>\n      <td>78.85</td>\n      <td>overcast clouds</td>\n      <td>19.9333</td>\n      <td>-105.2500</td>\n      <td>Norma franco</td>\n    </tr>\n    <tr>\n      <th>3</th>\n      <td>47</td>\n      <td>Mango</td>\n      <td>US</td>\n      <td>81.01</td>\n      <td>clear sky</td>\n      <td>27.9797</td>\n      <td>-82.3065</td>\n      <td>Hilton Garden Inn Tampa East/Brandon</td>\n    </tr>\n  </tbody>\n</table>\n</div>"
     },
     "metadata": {},
     "execution_count": 96
    }
   ],
   "source": [
    "# 8. To create a marker layer map between the four cities.\n",
    "#  Combine the four city DataFrames into one DataFrame using the concat() function.\n",
    "itinerary_df = pd.concat([vacation_start, vacation_stop1, vacation_stop2, vacation_stop3],ignore_index=True)\n",
    "itinerary_df"
   ]
  },
  {
   "cell_type": "code",
   "execution_count": 97,
   "metadata": {},
   "outputs": [],
   "source": [
    "# 9 Using the template add city name, the country code, the weather description and maximum temperature for the city. \n",
    "info_box_template1 = \"\"\"\n",
    "<dl>\n",
    "<dt>Hotel Name</dt><dd>{Hotel Name}</dd>\n",
    "<dt>City</dt><dd>{City}</dd>\n",
    "<dt>Country</dt><dd>{Country}</dd>\n",
    "<dt>Weather Description</dt><dd>{Weather Description}</dt>\n",
    "<dt>Max Temp</dt><dd>{Max Temp} °F</dd>\n",
    "</dl>\n",
    "\"\"\"\n",
    "\n",
    "# 10a Get the data from each row and add it to the formatting template and store the data in a list.\n",
    "hotel_info = [info_box_template1.format(**row) for index, row in itinerary_df.iterrows()]\n",
    "\n",
    "# 10b. Get the latitude and longitude from each row and store in a new DataFrame.\n",
    "locations1 = itinerary_df[[\"Lat\", \"Lng\"]]\n"
   ]
  },
  {
   "cell_type": "code",
   "execution_count": 98,
   "metadata": {},
   "outputs": [
    {
     "output_type": "display_data",
     "data": {
      "text/plain": "Figure(layout=FigureLayout(height='420px'))",
      "application/vnd.jupyter.widget-view+json": {
       "version_major": 2,
       "version_minor": 0,
       "model_id": "b321019736a94e2f812741e8f480cbd9"
      }
     },
     "metadata": {}
    }
   ],
   "source": [
    "# 11a. Add a marker layer for each city to the map.\n",
    "fig1 = gmaps.figure()\n",
    "marker_layer_1 = gmaps.marker_layer(locations1, info_box_content= hotel_info)\n",
    "fig1.add_layer(marker_layer_1)\n",
    "\n",
    "# 11b. Display the figure\n",
    "fig1"
   ]
  },
  {
   "cell_type": "code",
   "execution_count": 39,
   "metadata": {},
   "outputs": [
    {
     "output_type": "display_data",
     "data": {
      "text/plain": "Figure(layout=FigureLayout(height='420px'))",
      "application/vnd.jupyter.widget-view+json": {
       "version_major": 2,
       "version_minor": 0,
       "model_id": "3c35e4a207c042a0af6ab26a1c3b8aa8"
      }
     },
     "metadata": {}
    }
   ],
   "source": []
  },
  {
   "cell_type": "code",
   "execution_count": null,
   "metadata": {},
   "outputs": [],
   "source": []
  }
 ],
 "metadata": {
  "kernelspec": {
   "name": "python394jvsc74a57bd0fb18a3ac57c62a52cd09fb7682caf9ddbe3f0f531ef1a5c14032381dbfb73f05",
   "display_name": "Python 3.9.4 64-bit ('PythonData': conda)"
  },
  "language_info": {
   "codemirror_mode": {
    "name": "ipython",
    "version": 3
   },
   "file_extension": ".py",
   "mimetype": "text/x-python",
   "name": "python",
   "nbconvert_exporter": "python",
   "pygments_lexer": "ipython3",
   "version": "3.9.4"
  },
  "latex_envs": {
   "LaTeX_envs_menu_present": true,
   "autoclose": false,
   "autocomplete": true,
   "bibliofile": "biblio.bib",
   "cite_by": "apalike",
   "current_citInitial": 1,
   "eqLabelWithNumbers": true,
   "eqNumInitial": 1,
   "hotkeys": {
    "equation": "Ctrl-E",
    "itemize": "Ctrl-I"
   },
   "labels_anchors": false,
   "latex_user_defs": false,
   "report_style_numbering": false,
   "user_envs_cfg": false
  }
 },
 "nbformat": 4,
 "nbformat_minor": 2
}